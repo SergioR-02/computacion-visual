{
 "cells": [
  {
   "cell_type": "code",
   "execution_count": null,
   "id": "0",
   "metadata": {},
   "outputs": [],
   "source": [
    "%pip install numpy opencv-python matplotlib\n"
   ]
  },
  {
   "cell_type": "code",
   "execution_count": null,
   "id": "1",
   "metadata": {},
   "outputs": [],
   "source": [
    "# 🔧 Importación de librerías necesarias\n",
    "import cv2\n",
    "import numpy as np\n",
    "import matplotlib.pyplot as plt\n",
    "\n",
    "\n",
    "# 📷 Cargar una imagen en escala de grises\n",
    "img = cv2.imread('../datos/images.jpg', cv2.IMREAD_GRAYSCALE)\n",
    "\n",
    "# 🖼️ Visualizar la imagen original\n",
    "plt.imshow(img, cmap='gray')\n",
    "plt.title('Imagen Original')\n",
    "plt.axis('off')\n",
    "plt.show()\n",
    "\n"
   ]
  },
  {
   "cell_type": "code",
   "execution_count": null,
   "id": "2",
   "metadata": {},
   "outputs": [],
   "source": [
    "# 🧠 Implementación manual de la convolución 2D\n",
    "def aplicar_convolucion(imagen, kernel):\n",
    "    h, w = imagen.shape             # Dimensiones de la imagen\n",
    "    kh, kw = kernel.shape           # Dimensiones del kernel\n",
    "    pad_h, pad_w = kh // 2, kw // 2 # Padding necesario\n",
    "\n",
    "    # 📦 Padding con ceros alrededor de la imagen\n",
    "    imagen_padded = np.pad(imagen, ((pad_h, pad_h), (pad_w, pad_w)), mode='constant', constant_values=0)\n",
    "    salida = np.zeros_like(imagen)\n",
    "\n",
    "    # 🔁 Aplicar el kernel sobre cada píxel\n",
    "    for i in range(h):\n",
    "        for j in range(w):\n",
    "            region = imagen_padded[i:i+kh, j:j+kw]\n",
    "            salida[i, j] = np.clip(np.sum(region * kernel), 0, 255)\n",
    "    \n",
    "    return salida.astype(np.uint8)\n"
   ]
  },
  {
   "cell_type": "code",
   "execution_count": null,
   "id": "3",
   "metadata": {},
   "outputs": [],
   "source": [
    "# ✴️ Filtro de enfoque (sharpening)\n",
    "kernel_sharpen = np.array([[0, -1, 0],\n",
    "                           [-1, 5,-1],\n",
    "                           [0, -1, 0]])\n",
    "img_sharp = aplicar_convolucion(img, kernel_sharpen)\n",
    "\n",
    "# 🌫️ Filtro de suavizado (blur promedio)\n",
    "kernel_blur = np.ones((3,3), np.float32) / 9\n",
    "img_blur = aplicar_convolucion(img, kernel_blur)\n",
    "\n",
    "# 🧭 Filtro de detección de bordes con Sobel\n",
    "kernel_sobel_x = np.array([[-1, 0, 1],\n",
    "                           [-2, 0, 2],\n",
    "                           [-1, 0, 1]])\n",
    "kernel_sobel_y = np.array([[-1, -2, -1],\n",
    "                           [0,  0,  0],\n",
    "                           [1,  2,  1]])\n",
    "\n",
    "# Aplicación de ambos kernels en X e Y\n",
    "img_sobel_x = aplicar_convolucion(img, kernel_sobel_x)\n",
    "img_sobel_y = aplicar_convolucion(img, kernel_sobel_y)\n",
    "\n",
    "# 🔍 Magnitud del gradiente para combinar direcciones\n",
    "img_edges = np.sqrt(img_sobel_x**2 + img_sobel_y**2)\n",
    "img_edges = np.clip(img_edges, 0, 255).astype(np.uint8)\n"
   ]
  },
  {
   "cell_type": "code",
   "execution_count": null,
   "id": "4",
   "metadata": {},
   "outputs": [],
   "source": [
    "# 🛠️ Aplicar los mismos kernels con OpenCV\n",
    "img_cv_sharp = cv2.filter2D(img, -1, kernel_sharpen)\n",
    "img_cv_blur = cv2.filter2D(img, -1, kernel_blur)\n",
    "img_cv_edges = cv2.filter2D(img, -1, kernel_sobel_x) + cv2.filter2D(img, -1, kernel_sobel_y)\n"
   ]
  },
  {
   "cell_type": "code",
   "execution_count": null,
   "id": "5",
   "metadata": {},
   "outputs": [],
   "source": [
    "# 📑 Función para mostrar imágenes en paralelo\n",
    "def mostrar_comparacion(titulo, img1, img2):\n",
    "    fig, axs = plt.subplots(1, 2, figsize=(10, 4))\n",
    "    axs[0].imshow(img1, cmap='gray')\n",
    "    axs[0].set_title(f'{titulo} - Manual')\n",
    "    axs[1].imshow(img2, cmap='gray')\n",
    "    axs[1].set_title(f'{titulo} - OpenCV')\n",
    "    for ax in axs: ax.axis('off')\n",
    "    plt.tight_layout()\n",
    "    plt.show()\n",
    "\n",
    "# 🔍 Mostrar comparaciones\n",
    "mostrar_comparacion('Sharpening', img_sharp, img_cv_sharp)\n",
    "mostrar_comparacion('Blur', img_blur, img_cv_blur)\n",
    "mostrar_comparacion('Bordes', img_edges, img_cv_edges)\n"
   ]
  },
  {
   "cell_type": "code",
   "execution_count": null,
   "id": "6",
   "metadata": {},
   "outputs": [],
   "source": [
    "# 🎚️ Función dummy para el slider\n",
    "def nothing(x):\n",
    "    pass\n",
    "\n",
    "# 🪟 Crear ventana redimensionable y sliders\n",
    "cv2.namedWindow(\"Filtro Interactivo\", cv2.WINDOW_NORMAL)\n",
    "cv2.resizeWindow(\"Filtro Interactivo\", 700, 400)\n",
    "cv2.createTrackbar(\"K1 (Centro)\", \"Filtro Interactivo\", 1, 10, nothing)\n",
    "\n",
    "while True:\n",
    "    k1 = cv2.getTrackbarPos(\"K1 (Centro)\", \"Filtro Interactivo\")\n",
    "\n",
    "    # 🧩 Kernel ajustable de realce\n",
    "    kernel = np.array([[0, -1, 0],\n",
    "                       [-1, 4 + k1, -1],\n",
    "                       [0, -1, 0]])\n",
    "\n",
    "    result = cv2.filter2D(img, -1, kernel)\n",
    "\n",
    "    # 🎨 Convertir a BGR para dibujar texto en negro\n",
    "    img_bgr = cv2.cvtColor(img, cv2.COLOR_GRAY2BGR)\n",
    "    result_bgr = cv2.cvtColor(result, cv2.COLOR_GRAY2BGR)\n",
    "\n",
    "    # 🖍️ Texto suave, pequeño y de color negro\n",
    "    font_scale = 0.6\n",
    "    color = (0, 0, 0)  # Negro\n",
    "    thickness = 1\n",
    "    position = (10, 20)\n",
    "\n",
    "    cv2.putText(img_bgr, 'Original', position, cv2.FONT_HERSHEY_SIMPLEX, font_scale, color, thickness, cv2.LINE_AA)\n",
    "    cv2.putText(result_bgr, 'Editada', position, cv2.FONT_HERSHEY_SIMPLEX, font_scale, color, thickness, cv2.LINE_AA)\n",
    "\n",
    "    # ➕ Combinar ambas imágenes horizontalmente\n",
    "    combinada = np.hstack((img_bgr, result_bgr))\n",
    "\n",
    "    # 🖼️ Mostrar la ventana\n",
    "    cv2.imshow(\"Filtro Interactivo\", combinada)\n",
    "\n",
    "    # ⏹️ Salir con ESC\n",
    "    if cv2.waitKey(1) & 0xFF == 27:\n",
    "        break\n",
    "\n",
    "cv2.destroyAllWindows()"
   ]
  }
 ],
 "metadata": {
  "kernelspec": {
   "display_name": "Python 3",
   "language": "python",
   "name": "python3"
  },
  "language_info": {
   "codemirror_mode": {
    "name": "ipython",
    "version": 3
   },
   "file_extension": ".py",
   "mimetype": "text/x-python",
   "name": "python",
   "nbconvert_exporter": "python",
   "pygments_lexer": "ipython3",
   "version": "3.11.9"
  }
 },
 "nbformat": 4,
 "nbformat_minor": 5
}
