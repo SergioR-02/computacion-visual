{
 "cells": [
  {
   "cell_type": "code",
   "execution_count": null,
   "id": "0",
   "metadata": {},
   "outputs": [],
   "source": [
    "import cv2\n",
    "import numpy as np\n",
    "import matplotlib.pyplot as plt"
   ]
  },
  {
   "cell_type": "code",
   "execution_count": null,
   "id": "1",
   "metadata": {},
   "outputs": [],
   "source": [
    "# 2. Cargar una imagen en escala de grises\n",
    "\n",
    "img = cv2.imread('../datos/image.jpg', cv2.IMREAD_GRAYSCALE)\n",
    "plt.imshow(img, cmap='gray')\n",
    "plt.title('Imagen en escala de grises')\n",
    "plt.axis('off')\n",
    "plt.show()\n"
   ]
  },
  {
   "cell_type": "code",
   "execution_count": null,
   "id": "2",
   "metadata": {},
   "outputs": [],
   "source": [
    "# 3. Aplicar umbral fijo\n",
    "_, thresh_fijo = cv2.threshold(img, 127, 255, cv2.THRESH_BINARY)\n",
    "plt.imshow(thresh_fijo, cmap='gray')\n",
    "plt.title('Umbral fijo')\n",
    "plt.axis('off')\n",
    "plt.show()\n"
   ]
  },
  {
   "cell_type": "code",
   "execution_count": null,
   "id": "3",
   "metadata": {},
   "outputs": [],
   "source": [
    "# 4. Aplicar umbral adaptativo\n",
    "thresh_adapt = cv2.adaptiveThreshold(\n",
    "    img, 255, cv2.ADAPTIVE_THRESH_GAUSSIAN_C,\n",
    "    cv2.THRESH_BINARY, 11, 2\n",
    ")\n",
    "plt.imshow(thresh_adapt, cmap='gray')\n",
    "plt.title('Umbral adaptativo')\n",
    "plt.axis('off')\n",
    "plt.show()\n"
   ]
  },
  {
   "cell_type": "code",
   "execution_count": null,
   "id": "4",
   "metadata": {},
   "outputs": [],
   "source": [
    "# 5. Detectar contornos\n",
    "contours, _ = cv2.findContours(thresh_adapt, cv2.RETR_EXTERNAL, cv2.CHAIN_APPROX_SIMPLE)\n",
    "\n",
    "#6. Dibujar contornos sobre la imagen original (en color para visualización)\n",
    "img_color = cv2.cvtColor(img, cv2.COLOR_GRAY2BGR)\n",
    "cv2.drawContours(img_color, contours, -1, (0, 255, 0), 2)\n",
    "plt.imshow(cv2.cvtColor(img_color, cv2.COLOR_BGR2RGB))\n",
    "plt.title('Contornos detectados')\n",
    "plt.axis('off')\n",
    "plt.show()\n"
   ]
  },
  {
   "cell_type": "code",
   "execution_count": null,
   "id": "5",
   "metadata": {},
   "outputs": [],
   "source": [
    "#7. Calcular centro de masa y bounding boxes\n",
    "for cnt in contours:\n",
    "    M = cv2.moments(cnt)\n",
    "    if M['m00'] != 0:\n",
    "        cx = int(M['m10']/M['m00'])\n",
    "        cy = int(M['m01']/M['m00'])\n",
    "        cv2.circle(img_color, (cx, cy), 5, (0, 0, 255), -1)\n",
    "\n",
    "    x, y, w, h = cv2.boundingRect(cnt)\n",
    "    cv2.rectangle(img_color, (x, y), (x + w, y + h), (255, 0, 0), 2)\n",
    "\n",
    "plt.imshow(cv2.cvtColor(img_color, cv2.COLOR_BGR2RGB))\n",
    "plt.title('Centros de masa y bounding boxes')\n",
    "plt.axis('off')\n",
    "plt.show()\n",
    "\n",
    "# Calcular métricas básicas\n",
    "areas = [cv2.contourArea(c) for c in contours]\n",
    "perimetros = [cv2.arcLength(c, True) for c in contours]\n",
    "\n",
    "print(\"Número de formas detectadas:\", len(contours))\n",
    "print(\"Área promedio:\", np.mean(areas))\n",
    "print(\"Perímetro promedio:\", np.mean(perimetros))\n",
    "\n"
   ]
  },
  {
   "cell_type": "code",
   "execution_count": null,
   "id": "6",
   "metadata": {},
   "outputs": [],
   "source": [
    "cap = cv2.VideoCapture(0)\n",
    "\n",
    "while True:\n",
    "    ret, frame = cap.read()\n",
    "    if not ret:\n",
    "        break\n",
    "    gray = cv2.cvtColor(frame, cv2.COLOR_BGR2GRAY)\n",
    "    thresh = cv2.adaptiveThreshold(gray, 255, cv2.ADAPTIVE_THRESH_MEAN_C,\n",
    "                                   cv2.THRESH_BINARY, 11, 2)\n",
    "    contours, _ = cv2.findContours(thresh, cv2.RETR_EXTERNAL, cv2.CHAIN_APPROX_SIMPLE)\n",
    "    for cnt in contours:\n",
    "        x, y, w, h = cv2.boundingRect(cnt)\n",
    "        cv2.rectangle(frame, (x, y), (x + w, y + h), (255, 0, 0), 2)\n",
    "    cv2.imshow('Webcam - segmentación', frame)\n",
    "    if cv2.waitKey(1) & 0xFF == ord('q'):\n",
    "        break\n",
    "\n",
    "cap.release()\n",
    "cv2.destroyAllWindows()\n"
   ]
  }
 ],
 "metadata": {
  "kernelspec": {
   "display_name": "Python 3",
   "language": "python",
   "name": "python3"
  },
  "language_info": {
   "codemirror_mode": {
    "name": "ipython",
    "version": 3
   },
   "file_extension": ".py",
   "mimetype": "text/x-python",
   "name": "python",
   "nbconvert_exporter": "python",
   "pygments_lexer": "ipython3",
   "version": "3.11.9"
  }
 },
 "nbformat": 4,
 "nbformat_minor": 5
}
