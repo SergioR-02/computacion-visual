{
 "cells": [
  {
   "cell_type": "code",
   "execution_count": null,
   "id": "0",
   "metadata": {},
   "outputs": [],
   "source": [
    "#pip install matplotlib numpy imageio"
   ]
  },
  {
   "cell_type": "code",
   "execution_count": null,
   "id": "1",
   "metadata": {},
   "outputs": [],
   "source": [
    "import numpy as np\n",
    "import matplotlib.pyplot as plt\n",
    "import imageio\n",
    "from IPython.display import Image, display\n",
    "import os\n",
    "import shutil"
   ]
  },
  {
   "cell_type": "code",
   "execution_count": null,
   "id": "2",
   "metadata": {},
   "outputs": [],
   "source": [
    "# 1. Define the original shape (a square) in homogeneous coordinates\n",
    "# Each row represents a point [x, y, 1]\n",
    "square = np.array([\n",
    "    [-1, -1, 1],\n",
    "    [ 1, -1, 1],\n",
    "    [ 1,  1, 1],\n",
    "    [-1,  1, 1],\n",
    "    [-1, -1, 1]  # Close the square by returning to the first point\n",
    "]).T"
   ]
  },
  {
   "cell_type": "code",
   "execution_count": null,
   "id": "3",
   "metadata": {},
   "outputs": [],
   "source": [
    "# 2. Transformation functions (translation, rotation, and scaling)\n",
    "def translacion(tx, ty):\n",
    "    \"\"\"Returns a translation matrix to move points by (tx, ty).\"\"\"\n",
    "    return np.array([\n",
    "        [1, 0, tx],\n",
    "        [0, 1, ty],\n",
    "        [0, 0,  1]\n",
    "    ])\n",
    "\n",
    "def rotacion(theta):\n",
    "    \"\"\"Returns a rotation matrix to rotate points by an angle theta (in radians).\"\"\"\n",
    "    return np.array([\n",
    "        [np.cos(theta), -np.sin(theta), 0],\n",
    "        [np.sin(theta),  np.cos(theta), 0],\n",
    "        [0,              0,             1]\n",
    "    ])\n",
    "\n",
    "def escala(sx, sy):\n",
    "    \"\"\"Returns a scaling matrix to stretch points along x by sx and y by sy.\"\"\"\n",
    "    return np.array([\n",
    "        [sx, 0,  0],\n",
    "        [0,  sy, 0],\n",
    "        [0,  0,  1]\n",
    "    ])\n"
   ]
  },
  {
   "cell_type": "code",
   "execution_count": null,
   "id": "4",
   "metadata": {},
   "outputs": [],
   "source": [
    "# 3. Set up the animation\n",
    "frames = []        \n",
    "num_frames = 50     # Number of animation frames\n",
    "\n",
    "# Create a temporary folder to store the frames\n",
    "temp_dir = \"frames_temp\"\n",
    "if not os.path.exists(temp_dir):\n",
    "    os.makedirs(temp_dir)\n",
    "\n",
    "# Initial figure\n",
    "fig, ax = plt.subplots(figsize=(6,6))\n",
    "\n",
    "for i in range(num_frames):\n",
    "    t = i / num_frames\n",
    "\n",
    "    tx = 2 * np.sin(2 * np.pi * t)\n",
    "    ty = 2 * np.sin(2 * np.pi * t)\n",
    "    theta = 2 * np.pi * t\n",
    "    s = 1 + 0.5 * np.sin(2 * np.pi * t)\n",
    "\n",
    "    T = translacion(tx, ty)\n",
    "    R = rotacion(theta)\n",
    "    S = escala(s, s)\n",
    "\n",
    "    M = T @ R @ S\n",
    "    square_trans = M @ square\n",
    "\n",
    "    ax.cla()\n",
    "    ax.plot(square_trans[0, :], square_trans[1, :], 'bo-', markersize=5)\n",
    "    ax.set_xlim(-5, 5)\n",
    "    ax.set_ylim(-5, 5)\n",
    "    ax.set_title(f'Frame {i+1}/{num_frames}')\n",
    "    ax.set_aspect('equal', adjustable='box')\n",
    "\n",
    "    filename = os.path.join(temp_dir, f\"frame_{i}.png\")\n",
    "    fig.savefig(filename)\n",
    "    plt.pause(0.01)\n",
    "\n",
    "    frames.append(imageio.imread(filename))\n",
    "\n",
    "# Export GIF\n",
    "gif_filename = \"transformaciones.gif\"\n",
    "imageio.mimsave(gif_filename, frames, fps=10, loop=0)\n",
    "print(\"GIF animado guardado como:\", gif_filename)\n",
    "\n",
    "# Display GIF\n",
    "display(Image(filename=gif_filename))\n",
    "\n",
    "# Clean up\n",
    "shutil.rmtree(temp_dir)"
   ]
  }
 ],
 "metadata": {
  "kernelspec": {
   "display_name": "Python 3",
   "language": "python",
   "name": "python3"
  },
  "language_info": {
   "codemirror_mode": {
    "name": "ipython",
    "version": 3
   },
   "file_extension": ".py",
   "mimetype": "text/x-python",
   "name": "python",
   "nbconvert_exporter": "python",
   "pygments_lexer": "ipython3",
   "version": "3.11.9"
  }
 },
 "nbformat": 4,
 "nbformat_minor": 5
}
