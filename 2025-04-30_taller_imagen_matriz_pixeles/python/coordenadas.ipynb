{
 "cells": [
  {
   "cell_type": "code",
   "execution_count": null,
   "id": "0",
   "metadata": {},
   "outputs": [],
   "source": [
    "#!pip install opencv-python numpy matplotlib\n",
    "import cv2\n",
    "import numpy as np\n",
    "import matplotlib.pyplot as plt\n",
    "\n",
    "# Cargar imagen en color\n",
    "img = cv2.imread('../datos/imagen.jpg')  # Asegúrate de subirla a Colab o tenerla localmente\n",
    "img_rgb = cv2.cvtColor(img, cv2.COLOR_BGR2RGB)\n",
    "\n",
    "# Mostrar imagen\n",
    "plt.imshow(img_rgb)\n",
    "plt.title('Imagen Original')\n",
    "plt.axis('off')\n",
    "plt.show()\n"
   ]
  },
  {
   "cell_type": "code",
   "execution_count": null,
   "id": "1",
   "metadata": {},
   "outputs": [],
   "source": [
    "# Separar canales RGB\n",
    "r, g, b = cv2.split(img_rgb)\n",
    "\n",
    "# Mostrar cada canal\n",
    "fig, axs = plt.subplots(1, 3, figsize=(15,5))\n",
    "axs[0].imshow(r, cmap='Reds')\n",
    "axs[0].set_title('Canal R')\n",
    "axs[1].imshow(g, cmap='Greens')\n",
    "axs[1].set_title('Canal G')\n",
    "axs[2].imshow(b, cmap='Blues')\n",
    "axs[2].set_title('Canal B')\n",
    "for ax in axs: ax.axis('off')\n",
    "plt.show()\n",
    "\n",
    "# Convertir a HSV y mostrar\n",
    "img_hsv = cv2.cvtColor(img, cv2.COLOR_BGR2HSV)\n",
    "h, s, v = cv2.split(img_hsv)\n",
    "\n",
    "plt.figure(figsize=(15,4))\n",
    "plt.subplot(1,3,1), plt.imshow(h, cmap='hsv'), plt.title('H'), plt.axis('off')\n",
    "plt.subplot(1,3,2), plt.imshow(s, cmap='gray'), plt.title('S'), plt.axis('off')\n",
    "plt.subplot(1,3,3), plt.imshow(v, cmap='gray'), plt.title('V'), plt.axis('off')\n",
    "plt.show()"
   ]
  },
  {
   "cell_type": "code",
   "execution_count": null,
   "id": "2",
   "metadata": {},
   "outputs": [],
   "source": [
    "img_mod = img_rgb.copy()\n",
    "\n",
    "# Cambiar el color de una región (por ejemplo, arriba a la izquierda)\n",
    "img_mod[50:150, 100:200] = [255, 0, 0]  # Rojo\n",
    "\n",
    "# Sustituir una región por otra (espejar zona superior a zona inferior)\n",
    "img_mod[250:350, 100:200] = img_mod[50:150, 100:200]\n",
    "\n",
    "plt.imshow(img_mod)\n",
    "plt.title('Regiones Modificadas')\n",
    "plt.axis('off')\n",
    "plt.show()\n"
   ]
  },
  {
   "cell_type": "code",
   "execution_count": null,
   "id": "3",
   "metadata": {},
   "outputs": [],
   "source": [
    "# Histograma con matplotlib\n",
    "colors = ('r', 'g', 'b')\n",
    "for i, col in enumerate(colors):\n",
    "    hist = cv2.calcHist([img_rgb], [i], None, [256], [0, 256])\n",
    "    plt.plot(hist, color=col)\n",
    "plt.title('Histograma RGB')\n",
    "plt.xlabel('Intensidad')\n",
    "plt.ylabel('Frecuencia')\n",
    "plt.show()\n"
   ]
  },
  {
   "cell_type": "code",
   "execution_count": null,
   "id": "4",
   "metadata": {},
   "outputs": [],
   "source": [
    "img_cv2_adjust = cv2.convertScaleAbs(img_rgb, alpha=1.2, beta=30)\n",
    "plt.imshow(img_cv2_adjust)\n",
    "plt.title('Brillo y Contraste Ajustado (cv2)')\n",
    "plt.axis('off')\n",
    "plt.show()\n"
   ]
  },
  {
   "cell_type": "code",
   "execution_count": null,
   "id": "5",
   "metadata": {},
   "outputs": [],
   "source": [
    "def nothing(x): pass\n",
    "\n",
    "cv2.namedWindow('Adjust')\n",
    "cv2.resizeWindow('Adjust', 500, 300)  # Tamaño de la ventana (se usa si la imagen también es pequeña)\n",
    "\n",
    "cv2.createTrackbar('Alpha', 'Adjust', 10, 30, nothing)\n",
    "cv2.createTrackbar('Beta', 'Adjust', 0, 100, nothing)\n",
    "\n",
    "\n",
    "output_size = (500, 300)  # (ancho, alto)\n",
    "\n",
    "while True:\n",
    "    alpha = cv2.getTrackbarPos('Alpha', 'Adjust') / 10\n",
    "    beta = cv2.getTrackbarPos('Beta', 'Adjust')\n",
    "    \n",
    "    adjusted = cv2.convertScaleAbs(img, alpha=alpha, beta=beta)\n",
    "    \n",
    "    # Redimensionar imagen antes de mostrar\n",
    "    resized = cv2.resize(adjusted, output_size)\n",
    "    \n",
    "    cv2.imshow('Adjust', resized)\n",
    "    if cv2.waitKey(1) & 0xFF == 27:  # Escape key\n",
    "        break\n",
    "\n",
    "cv2.destroyAllWindows()\n"
   ]
  }
 ],
 "metadata": {
  "kernelspec": {
   "display_name": "Python 3",
   "language": "python",
   "name": "python3"
  },
  "language_info": {
   "codemirror_mode": {
    "name": "ipython",
    "version": 3
   },
   "file_extension": ".py",
   "mimetype": "text/x-python",
   "name": "python",
   "nbconvert_exporter": "python",
   "pygments_lexer": "ipython3",
   "version": "3.11.9"
  }
 },
 "nbformat": 4,
 "nbformat_minor": 5
}
